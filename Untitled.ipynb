{
  "metadata": {
    "language_info": {
      "codemirror_mode": {
        "name": "python",
        "version": 3
      },
      "file_extension": ".py",
      "mimetype": "text/x-python",
      "name": "python",
      "nbconvert_exporter": "python",
      "pygments_lexer": "ipython3",
      "version": "3.8"
    },
    "kernelspec": {
      "name": "python",
      "display_name": "Python (Pyodide)",
      "language": "python"
    }
  },
  "nbformat_minor": 4,
  "nbformat": 4,
  "cells": [
    {
      "cell_type": "code",
      "source": "Question 1:\n    \n5- int\n5.0-float\n5 > 1 - boolean\n'5'-string\n5 * 2- int\n'5' * 2 - string\n'5' + '2'- string\n5 / 2-float\n5 % 2-int\n{5, 2, 1}-set\n5 == 3-boolean\nPi (the number)-float\n",
      "metadata": {},
      "execution_count": null,
      "outputs": []
    },
    {
      "cell_type": "code",
      "source": "Question 2:\n    \na)x= 'Supercalifragilisticexpialidocious'\nprint(len(x))\nOutput:34\nb)x='Supercalifragilisticexpialidocious'\nif ('ice' in x):\n    print(\"Yes\")\nelse:\n    print(\"No\")\nOutput:Yes\nc) x='Supercalifragilisticexpialidocious'\ny='Honorificabilitudinitatibus'\nz='Bababadalgharaghtakamminarronnkonn'\nif (x>y and x>z):\n    print(x)\nelif(y>x and y>z):\n    print(y)\nelse:\n    print(z)\nOutput:  Supercalifragilisticexpialidocious\nd) list={'Berlioz', 'Borodin', 'Brian',\n'Bartok', 'Bellini', 'Buxtehude', 'Bernstein'}\nprint(sorted(list))",
      "metadata": {},
      "execution_count": null,
      "outputs": []
    },
    {
      "cell_type": "code",
      "source": "Question3:\n    import math\n\ndef AreaofTriangle(a, b, c):\n    \n    s = (a + b + c) / 2\n    \n    area = math.sqrt(s * (s - a) * (s - b) * (s - c))\n    \n    return area\n\nresult = AreaofTriangle(2, 2, 2)\nprint(\"Area=\", result)",
      "metadata": {},
      "execution_count": null,
      "outputs": []
    },
    {
      "cell_type": "code",
      "source": "Question 4:\n    \nn = int(input(\"Input the number of elements to be stored in the array: \"))\n\nodd_numbers = []\neven_numbers = []\n\nfor i in range(n):\n    element = int(input(\"element - {i} : \"))\n    if element % 2 == 0:\n        even_numbers.append(element)\n    else:\n        odd_numbers.append(element)\nprint(\"Odd Numbers:\", odd_numbers)\nprint(\"Even Numbers:\", even_numbers)",
      "metadata": {},
      "execution_count": null,
      "outputs": []
    },
    {
      "cell_type": "code",
      "source": "Question 6:\n    \ndef pig(word):\n    word = word.lower();\n    \n    if word[0] in 'aeiou':\n        return word + 'way';\n    else:\n        for i in letter(word):\n          if letter in 'aeiou':\n            return word[i:] + word[:i] + 'ay';\n        \ninput_word = input(\"Enter a word: \");\npig_latin_word = pig(input_word);\nprint(\"Pig Latin:\", pig_latin_word);           ",
      "metadata": {},
      "execution_count": null,
      "outputs": []
    },
    {
      "cell_type": "code",
      "source": "Question 7:\n    \ndef bldcount():\n    f= open(\"bloodtype1.txt\",\"r\");\n    name= f.realines;\n    line = name.append();\n    \nfor i in name:\n    if (i ==1):\n        print(\" There is only one Patient with {line}\");\n    elif (i>1):\n        print(\"There are {i} patients with blood group {line}\");\n    else:\n        print(\"There are no patients of blood group {line}\");        ",
      "metadata": {},
      "execution_count": null,
      "outputs": []
    },
    {
      "cell_type": "code",
      "source": "Question 8:\n    \ndef curconv(currency, currency_rate):\n    f = open(\"currencies.txt\",\"r\");\n    ",
      "metadata": {},
      "execution_count": null,
      "outputs": []
    },
    {
      "cell_type": "code",
      "source": "Question 9 :\n    \n1) TypeError: unsupported operand type(s) for +: 'int' and 'str'\n2) IndexError: list index out of range\n3) ValueError: math domain error\n4) NameError: name 'x' is not defined\n5) FileNotFoundError: [Errno 2] No such file or directory: 'texttt.txt'",
      "metadata": {},
      "execution_count": null,
      "outputs": []
    }
  ]
}